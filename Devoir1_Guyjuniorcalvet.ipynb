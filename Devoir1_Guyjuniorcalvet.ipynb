{
 "cells": [
  {
   "cell_type": "markdown",
   "id": "329ebed7-7c63-4a3c-9599-20d05e2bb6dc",
   "metadata": {},
   "source": [
    "# Devoir 1 - Compréhension et préparation des données d’apprentissage\n",
    "\n",
    "#### Chargement des librairies"
   ]
  },
  {
   "cell_type": "raw",
   "id": "d5e29fd0-6fb5-4d7f-b4f2-e68449af24a7",
   "metadata": {},
   "source": [
    "pip install pycountry"
   ]
  },
  {
   "cell_type": "code",
   "execution_count": 1,
   "id": "e7cd5386-6e6c-4653-9481-e5bb941b85fe",
   "metadata": {},
   "outputs": [],
   "source": [
    "import pandas as pd\n",
    "import numpy as np\n",
    "import seaborn as sns\n",
    "import matplotlib.pyplot as plt\n",
    "from sklearn.impute import SimpleImputer\n",
    "from sklearn.preprocessing import FunctionTransformer\n",
    "from sklearn.pipeline import Pipeline\n",
    "from sklearn.base import BaseEstimator, TransformerMixin\n",
    "import pycountry"
   ]
  },
  {
   "cell_type": "markdown",
   "id": "7cf211fa-9662-4513-a53f-8efc8528cb01",
   "metadata": {},
   "source": [
    "#### Chargement des datasets"
   ]
  },
  {
   "cell_type": "code",
   "execution_count": 2,
   "id": "260bf633-ab06-4497-bc1e-040d1a3c6b82",
   "metadata": {},
   "outputs": [],
   "source": [
    "# Chargement des données\n",
    "customer_df = pd.read_csv(\"Customer.csv\")\n",
    "gdp_df = pd.read_csv(\"CountryGDP.csv\")\n",
    "pop_df = pd.read_csv(\"CountryPopulation.csv\")"
   ]
  },
  {
   "cell_type": "markdown",
   "id": "3e823d6d-52cf-4031-b82e-14e991170809",
   "metadata": {},
   "source": [
    "## Etape 2 : Évaluation de la faisabilité des solutions proposées"
   ]
  },
  {
   "cell_type": "code",
   "execution_count": 3,
   "id": "701ed864-ee73-4c3a-a6d0-4983d3c92d4f",
   "metadata": {},
   "outputs": [
    {
     "name": "stdout",
     "output_type": "stream",
     "text": [
      "<class 'pandas.core.frame.DataFrame'>\n",
      "RangeIndex: 10000 entries, 0 to 9999\n",
      "Data columns (total 8 columns):\n",
      " #   Column            Non-Null Count  Dtype  \n",
      "---  ------            --------------  -----  \n",
      " 0   age               10000 non-null  float64\n",
      " 1   pages             10000 non-null  float64\n",
      " 2   first_item_prize  10000 non-null  object \n",
      " 3   gender            10000 non-null  object \n",
      " 4   ReBuy             10000 non-null  bool   \n",
      " 5   News_click        10000 non-null  float64\n",
      " 6   country           10000 non-null  object \n",
      " 7   revenue           10000 non-null  object \n",
      "dtypes: bool(1), float64(3), object(4)\n",
      "memory usage: 556.8+ KB\n",
      "None\n"
     ]
    }
   ],
   "source": [
    "# Exploration des données\n",
    "print(customer_df.info())"
   ]
  },
  {
   "cell_type": "code",
   "execution_count": 4,
   "id": "29cdbf09-ce4f-4d21-ae0f-0f7c902be2bb",
   "metadata": {},
   "outputs": [
    {
     "name": "stdout",
     "output_type": "stream",
     "text": [
      "                 age         pages first_item_prize gender  ReBuy  \\\n",
      "count   10000.000000  10000.000000            10000  10000  10000   \n",
      "unique           NaN           NaN               11      2      2   \n",
      "top              NaN           NaN             44.0    Fem  False   \n",
      "freq             NaN           NaN             2083   6902   7200   \n",
      "mean       37.431400      5.995000              NaN    NaN    NaN   \n",
      "std         9.490474      2.438559              NaN    NaN    NaN   \n",
      "min        18.000000      1.000000              NaN    NaN    NaN   \n",
      "25%        31.000000      5.000000              NaN    NaN    NaN   \n",
      "50%        37.000000      6.000000              NaN    NaN    NaN   \n",
      "75%        43.000000      7.000000              NaN    NaN    NaN   \n",
      "max        79.000000     14.000000              NaN    NaN    NaN   \n",
      "\n",
      "          News_click country revenue  \n",
      "count   10000.000000   10000   10000  \n",
      "unique           NaN      50     469  \n",
      "top              NaN   China      68  \n",
      "freq             NaN     200      83  \n",
      "mean        4.412000     NaN     NaN  \n",
      "std         2.418231     NaN     NaN  \n",
      "min         0.000000     NaN     NaN  \n",
      "25%         3.000000     NaN     NaN  \n",
      "50%         4.000000     NaN     NaN  \n",
      "75%         6.000000     NaN     NaN  \n",
      "max        10.000000     NaN     NaN  \n"
     ]
    }
   ],
   "source": [
    "print(customer_df.describe(include='all'))"
   ]
  },
  {
   "cell_type": "code",
   "execution_count": 5,
   "id": "1b24a35d-c86c-48d9-b181-6dd8f1e8fd30",
   "metadata": {},
   "outputs": [
    {
     "data": {
      "image/png": "[encoded data removed]",
      "text/plain": [
       "<Figure size 640x480 with 1 Axes>"
      ]
     },
     "metadata": {},
     "output_type": "display_data"
    }
   ],
   "source": [
    "# Visualisation des outliers\n",
    "sns.boxplot(data=customer_df.select_dtypes(include=[\"number\"]))\n",
    "plt.show()"
   ]
  },
  {
   "cell_type": "markdown",
   "id": "a25d65b0-1552-45db-a0f3-b5dfd885ff77",
   "metadata": {},
   "source": [
    "## Etape 3 : Exploration des données - ´Problèmes récurrent : données manquante, aberrant et –outliers"
   ]
  },
  {
   "cell_type": "markdown",
   "id": "445aa6fc-fc38-4515-843c-5dad7fe2990a",
   "metadata": {},
   "source": [
    "Conversion des colonnes en numérique avant l'imputation\n",
    "def convert_to_numeric(df):\n",
    "    for col in df.columns:\n",
    "        if df[col].dtype == \"object\":\n",
    "            try:\n",
    "                df[col] = pd.to_numeric(df[col], errors='coerce')\n",
    "            except ValueError:\n",
    "                pass\n",
    "    return df"
   ]
  },
  {
   "cell_type": "code",
   "execution_count": 6,
   "id": "5030d384-a395-4ab7-9977-f288c5c9510d",
   "metadata": {},
   "outputs": [],
   "source": [
    "# Nettoyage des valeurs manquantes\n",
    "def clean_missing_values(df):\n",
    "    df = df.copy()\n",
    "    df.replace([\"unknown\", \"?\"], np.nan, inplace=True)\n",
    "\n",
    "    # Imputation des valeurs catégoriques\n",
    "    object_cols = df.select_dtypes(include=[\"object\"]).columns\n",
    "    if len(object_cols) > 0:\n",
    "        imputer_cat = SimpleImputer(strategy='most_frequent')\n",
    "        df[object_cols] = imputer_cat.fit_transform(df[object_cols])\n",
    "\n",
    "    # Conversion en numérique\n",
    "    for col in df.columns:\n",
    "        if df[col].dtype == \"object\" and col != \"gender\":  # Exclure 'gender'\n",
    "            df[col] = pd.to_numeric(df[col], errors='coerce')\n",
    "\n",
    "    # Imputation des valeurs numériques\n",
    "    numeric_cols = df.select_dtypes(include=[\"number\"]).columns.tolist()\n",
    "    df_numeric = df[numeric_cols].copy()\n",
    "\n",
    "    # Encoder 'gender' après imputation :\n",
    "    df[\"gender\"] = df[\"gender\"].map({\"Fem\": 0, \"Masc\": 1}).astype(\"float\")\n",
    "    \n",
    "    # Exclure les colonnes contenant uniquement des NaN\n",
    "    non_empty_cols = df_numeric.columns[df_numeric.notna().any()].tolist()\n",
    "    df_numeric = df_numeric[non_empty_cols]\n",
    "\n",
    "    if not df_numeric.empty:\n",
    "        imputer_num = SimpleImputer(strategy='median')\n",
    "        df_imputed = pd.DataFrame(\n",
    "            imputer_num.fit_transform(df_numeric),\n",
    "            columns=non_empty_cols,\n",
    "            index=df.index\n",
    "        )\n",
    "        df.update(df_imputed)\n",
    "\n",
    "    return df"
   ]
  },
  {
   "cell_type": "code",
   "execution_count": 7,
   "id": "b766a1c5-445b-4ee6-97aa-1762506f7d62",
   "metadata": {},
   "outputs": [],
   "source": [
    "# Détection et traitement des outliers\n",
    "def treat_outliers(df):\n",
    "    for col in df.select_dtypes(include=[\"number\"]):\n",
    "        Q1 = df[col].quantile(0.25)\n",
    "        Q3 = df[col].quantile(0.75)\n",
    "        IQR = Q3 - Q1\n",
    "        lower_bound = Q1 - 1.5 * IQR\n",
    "        upper_bound = Q3 + 1.5 * IQR\n",
    "        df[col] = np.where(df[col] < lower_bound, Q1, df[col])\n",
    "        df[col] = np.where(df[col] > upper_bound, Q3, df[col])\n",
    "    return df"
   ]
  },
  {
   "cell_type": "markdown",
   "id": "c1221f74-bd82-4041-8fef-27a41bb0e3f6",
   "metadata": {},
   "source": [
    "#### Pipeline pour les dataset \"Customer\""
   ]
  },
  {
   "cell_type": "code",
   "execution_count": 8,
   "id": "5eebd6b0-b430-42b7-91e3-30d7ab9ec6a9",
   "metadata": {},
   "outputs": [],
   "source": [
    "# Création de la classe de transformation\n",
    "class CustomerPreprocessor(BaseEstimator, TransformerMixin):\n",
    "    def fit(self, X, y=None):\n",
    "        return self\n",
    "\n",
    "    def transform(self, X):\n",
    "        X = clean_missing_values(X)\n",
    "        X = treat_outliers(X)\n",
    "        return X"
   ]
  },
  {
   "cell_type": "code",
   "execution_count": 9,
   "id": "91964b43-235a-457f-baeb-2b03d4bf5ef2",
   "metadata": {},
   "outputs": [],
   "source": [
    "# Pipeline de prétraitement des données clients\n",
    "customer_pipeline = Pipeline([\n",
    "    (\"preprocessor\", CustomerPreprocessor())\n",
    "])"
   ]
  },
  {
   "cell_type": "markdown",
   "id": "d795ac24-0f9d-4107-bc7c-f27bb2ed8d1f",
   "metadata": {},
   "source": [
    "## Enrichissement\n",
    "#### Prétraitement des datasets pour l'enrichissement des données"
   ]
  },
  {
   "cell_type": "code",
   "execution_count": 10,
   "id": "af6ef295-a29c-48c9-9c63-945804c86a9a",
   "metadata": {},
   "outputs": [],
   "source": [
    "# Nettoyage et fusion des datasets externes\n",
    "def merge_datasets(customer_df, gdp_df, pop_df, include_gdp=True):\n",
    "    # Renommer les colonnes pour assurer une fusion correcte\n",
    "    pop_df = pop_df.rename(columns={\"Country\": \"country\"})\n",
    "    gdp_df = gdp_df.rename(columns={\"Country\": \"country\"})\n",
    "\n",
    "    # Fusionner les datasets sur \"country\"\n",
    "    merged_df = customer_df.merge(pop_df, on=\"country\", how=\"left\")\n",
    "    if include_gdp:\n",
    "        merged_df = merged_df.merge(gdp_df, on=\"country\", how=\"left\")\n",
    "    \n",
    "    return merged_df"
   ]
  },
  {
   "cell_type": "code",
   "execution_count": 11,
   "id": "d5c45964-f7e3-40ef-885f-d32d8c9276f0",
   "metadata": {},
   "outputs": [],
   "source": [
    "# Conception de la Table de Base Analytique (TBA)\n",
    "def create_tba(df):\n",
    "    df[\"GDP_per_capita\"] = df[\"GDP\"] / df[\"population\"]\n",
    "    return df"
   ]
  },
  {
   "cell_type": "code",
   "execution_count": 12,
   "id": "e2e2fcf9-c0f4-4b80-be2a-7bf1aa7e35ae",
   "metadata": {},
   "outputs": [],
   "source": [
    "class DataEnrichmentTransformer(BaseEstimator, TransformerMixin):\n",
    "    def __init__(self, pop_df, gdp_df):\n",
    "        # Renommage explicite des colonnes\n",
    "        self.pop_df = pop_df.rename(columns={\"Country\": \"country\"})\n",
    "        self.gdp_df = gdp_df.rename(columns={\"Country\": \"country\"})\n",
    "        \n",
    "        # Mapping manuel étendu\n",
    "        self.country_mapping = {\n",
    "            'usa': 'united states',\n",
    "            'us': 'united states',\n",
    "            'uk': 'united kingdom',\n",
    "            'russia': 'russian federation',\n",
    "            'congo': 'congo, democratic republic of the',\n",
    "            'brunei': 'brunei darussalam'\n",
    "        }\n",
    "\n",
    "    def _normalize_country(self, name):\n",
    "        \"\"\"Normalisation robuste des noms de pays\"\"\"\n",
    "        try:\n",
    "            name = str(name).strip().lower()\n",
    "            name = self.country_mapping.get(name, name)\n",
    "            return pycountry.countries.search_fuzzy(name)[0].name.lower()\n",
    "        except:\n",
    "            return np.nan\n",
    "\n",
    "    def fit(self, X, y=None):\n",
    "        # Préparation des données externes\n",
    "        self.pop_df_clean = self.pop_df.copy()\n",
    "        self.pop_df_clean[\"country\"] = self.pop_df_clean[\"country\"].apply(self._normalize_country)\n",
    "        \n",
    "        self.gdp_df_clean = self.gdp_df.copy()\n",
    "        self.gdp_df_clean[\"country\"] = self.gdp_df_clean[\"country\"].apply(self._normalize_country)\n",
    "        \n",
    "        # Calcul des valeurs médianes\n",
    "        self.fallback_population_ = self.pop_df_clean[\"population\"].median()\n",
    "        self.fallback_gdp_ = self.gdp_df_clean[\"GDP_inhab\"].median()\n",
    "        \n",
    "        return self\n",
    "\n",
    "    def transform(self, X):\n",
    "        X = X.copy()\n",
    "        \n",
    "        # Normalisation du pays client\n",
    "        X[\"country\"] = X[\"country\"].apply(self._normalize_country)\n",
    "        \n",
    "        # Fusion garantie avec vérification\n",
    "        merged = pd.merge(X, self.pop_df_clean, on=\"country\", how=\"left\")\n",
    "        merged = pd.merge(merged, self.gdp_df_clean, on=\"country\", how=\"left\")\n",
    "        \n",
    "        # Imputation finale\n",
    "        merged[\"population\"] = merged[\"population\"].fillna(self.fallback_population_)\n",
    "        merged[\"GDP_inhab\"] = merged[\"GDP_inhab\"].fillna(self.fallback_gdp_)\n",
    "        \n",
    "        return merged.drop(columns=[\"country\"])"
   ]
  },
  {
   "cell_type": "code",
   "execution_count": 13,
   "id": "bc95ab4a-4b7f-47e0-b4c5-6aa2bb72b7e6",
   "metadata": {},
   "outputs": [],
   "source": [
    "# Utilisation ---------------------------------------------------------\n",
    "# Préparation initiale des données externes\n",
    "pop_df = pop_df.rename(columns={'Country': 'country', 'Population': 'population'})\n",
    "gdp_df = gdp_df.rename(columns={'Country': 'country', 'GDP_per_capita': 'GDP_inhab'})"
   ]
  },
  {
   "cell_type": "markdown",
   "id": "cd1b5f84-fb71-4cde-adf2-bc491e7d740b",
   "metadata": {},
   "source": [
    "#### Pipeline combiné"
   ]
  },
  {
   "cell_type": "code",
   "execution_count": 14,
   "id": "a4e8b051-46a2-4283-a2ef-902cd1b6edd6",
   "metadata": {},
   "outputs": [],
   "source": [
    "# Pipeline final\n",
    "full_pipeline = Pipeline([\n",
    "    ('customer_processing', customer_pipeline),\n",
    "    ('data_enrichment', DataEnrichmentTransformer(pop_df, gdp_df))\n",
    "])"
   ]
  },
  {
   "cell_type": "code",
   "execution_count": 15,
   "id": "b841d524-1a19-44e3-9321-a918efbc9e31",
   "metadata": {},
   "outputs": [],
   "source": [
    "# Application du pipeline\n",
    "df_final = full_pipeline.fit_transform(customer_df)"
   ]
  },
  {
   "cell_type": "code",
   "execution_count": 16,
   "id": "cb59481a-08cc-42bf-af3e-55181dbb7402",
   "metadata": {},
   "outputs": [
    {
     "name": "stdout",
     "output_type": "stream",
     "text": [
      "   population  GDP_inhab\n",
      "0    65926261       9503\n",
      "1    65926261       9503\n",
      "2    65926261       9503\n",
      "3    65926261       9503\n",
      "4    65926261       9503\n",
      "\n",
      "Valeurs manquantes :\n",
      "population    0\n",
      "GDP_inhab     0\n",
      "dtype: int64\n"
     ]
    }
   ],
   "source": [
    "# Vérifier le résultat\n",
    "print(df_final[['population', 'GDP_inhab']].head())\n",
    "print(\"\\nValeurs manquantes :\")\n",
    "print(df_final[['population', 'GDP_inhab']].isna().sum())"
   ]
  },
  {
   "cell_type": "code",
   "execution_count": 17,
   "id": "76e0b419-2ae5-4500-81e3-ee8454b2c070",
   "metadata": {},
   "outputs": [
    {
     "name": "stdout",
     "output_type": "stream",
     "text": [
      "<class 'pandas.core.frame.DataFrame'>\n",
      "RangeIndex: 10000 entries, 0 to 9999\n",
      "Data columns (total 9 columns):\n",
      " #   Column            Non-Null Count  Dtype  \n",
      "---  ------            --------------  -----  \n",
      " 0   age               10000 non-null  float64\n",
      " 1   pages             10000 non-null  float64\n",
      " 2   first_item_prize  10000 non-null  float64\n",
      " 3   gender            10000 non-null  float64\n",
      " 4   ReBuy             10000 non-null  bool   \n",
      " 5   News_click        10000 non-null  float64\n",
      " 6   revenue           10000 non-null  float64\n",
      " 7   population        10000 non-null  int64  \n",
      " 8   GDP_inhab         10000 non-null  int64  \n",
      "dtypes: bool(1), float64(6), int64(2)\n",
      "memory usage: 634.9 KB\n",
      "None\n",
      "    age  pages  first_item_prize  gender  ReBuy  News_click  revenue  \\\n",
      "0  41.0    6.0              28.0     0.0  False         4.0    113.0   \n",
      "1  34.0    4.0              15.5     0.0   True         2.0     36.0   \n",
      "2  38.0    5.0              44.0     0.0  False         7.0    111.0   \n",
      "3  20.0    5.0              44.0     0.0  False         2.0     71.0   \n",
      "4  39.0   10.0              10.0     0.0   True         4.0     80.0   \n",
      "\n",
      "   population  GDP_inhab  \n",
      "0    65926261       9503  \n",
      "1    65926261       9503  \n",
      "2    65926261       9503  \n",
      "3    65926261       9503  \n",
      "4    65926261       9503  \n"
     ]
    }
   ],
   "source": [
    "# Affichage du résultat\n",
    "print(df_final.info())\n",
    "print(df_final.head())"
   ]
  },
  {
   "cell_type": "code",
   "execution_count": 18,
   "id": "b81d01d6-b58a-41e3-b125-a070348b2f41",
   "metadata": {},
   "outputs": [
    {
     "name": "stdout",
     "output_type": "stream",
     "text": [
      "Prétraitement et enrichissement terminés. Fichier sauvegardé.\n"
     ]
    }
   ],
   "source": [
    "# Sauvegarde du dataset final\n",
    "df_final.to_csv(\"Customer_final.csv\", index=False)\n",
    "\n",
    "print(\"Prétraitement et enrichissement terminés. Fichier sauvegardé.\")"
   ]
  },
  {
   "cell_type": "code",
   "execution_count": null,
   "id": "c060a581-677b-4000-bf2a-a451d8390406",
   "metadata": {},
   "outputs": [],
   "source": []
  }
 ],
 "metadata": {
  "kernelspec": {
   "display_name": "Python 3 (ipykernel)",
   "language": "python",
   "name": "python3"
  },
  "language_info": {
   "codemirror_mode": {
    "name": "ipython",
    "version": 3
   },
   "file_extension": ".py",
   "mimetype": "text/x-python",
   "name": "python",
   "nbconvert_exporter": "python",
   "pygments_lexer": "ipython3",
   "version": "3.11.7"
  }
 },
 "nbformat": 4,
 "nbformat_minor": 5
}
